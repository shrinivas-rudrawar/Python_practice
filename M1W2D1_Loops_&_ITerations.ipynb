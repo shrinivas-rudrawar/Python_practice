{
  "nbformat": 4,
  "nbformat_minor": 0,
  "metadata": {
    "colab": {
      "provenance": [],
      "authorship_tag": "ABX9TyNBdf+FyEAhQMpB42V/zO+l",
      "include_colab_link": true
    },
    "kernelspec": {
      "name": "python3",
      "display_name": "Python 3"
    },
    "language_info": {
      "name": "python"
    }
  },
  "cells": [
    {
      "cell_type": "markdown",
      "metadata": {
        "id": "view-in-github",
        "colab_type": "text"
      },
      "source": [
        "<a href=\"https://colab.research.google.com/github/shrinivas-rudrawar/Python_practice/blob/shrinivas/M1W2D1_Loops_%26_ITerations.ipynb\" target=\"_parent\"><img src=\"https://colab.research.google.com/assets/colab-badge.svg\" alt=\"Open In Colab\"/></a>"
      ]
    },
    {
      "cell_type": "markdown",
      "source": [
        "**There is Two loops in Python**"
      ],
      "metadata": {
        "id": "WDxR1TYLuBsY"
      }
    },
    {
      "cell_type": "code",
      "execution_count": null,
      "metadata": {
        "id": "knk43Ymjt3NH"
      },
      "outputs": [],
      "source": [
        "names = ['shri', 'sarthak', 'vedant', 'govind', 'ashu', 'rushi']"
      ]
    },
    {
      "cell_type": "code",
      "source": [
        "for name in names :\n",
        "  print(name)"
      ],
      "metadata": {
        "colab": {
          "base_uri": "https://localhost:8080/"
        },
        "id": "co1T9WTtw5Fp",
        "outputId": "56d2670d-0eda-4d13-d1a8-42facd8ad1da"
      },
      "execution_count": null,
      "outputs": [
        {
          "output_type": "stream",
          "name": "stdout",
          "text": [
            "shri\n",
            "sarthak\n",
            "vedant\n",
            "govind\n",
            "ashu\n",
            "rushi\n"
          ]
        }
      ]
    },
    {
      "cell_type": "code",
      "source": [
        "for index,name in enumerate(names):\n",
        "  print(f'{name} : {index}')"
      ],
      "metadata": {
        "colab": {
          "base_uri": "https://localhost:8080/"
        },
        "id": "7wi9xYiKw_Df",
        "outputId": "0c29e422-9c56-4c2e-db03-d48285010681"
      },
      "execution_count": null,
      "outputs": [
        {
          "output_type": "stream",
          "name": "stdout",
          "text": [
            "shri : 0\n",
            "sarthak : 1\n",
            "vedant : 2\n",
            "govind : 3\n",
            "ashu : 4\n",
            "rushi : 5\n"
          ]
        }
      ]
    },
    {
      "cell_type": "code",
      "source": [
        "# print list in reverse order\n",
        "for name in names[::-1] :\n",
        "  print(name)"
      ],
      "metadata": {
        "colab": {
          "base_uri": "https://localhost:8080/"
        },
        "id": "5bHIz-c2xI0D",
        "outputId": "776a6975-2dbc-4020-eb36-35e1e5c32881"
      },
      "execution_count": null,
      "outputs": [
        {
          "output_type": "stream",
          "name": "stdout",
          "text": [
            "rushi\n",
            "ashu\n",
            "govind\n",
            "vedant\n",
            "sarthak\n",
            "shri\n"
          ]
        }
      ]
    },
    {
      "cell_type": "code",
      "source": [
        "numbers = [2,4,7,4,9,6,17]\n",
        "squared = []\n",
        "for num in numbers :\n",
        "  square = num**2\n",
        "  print(f'Square of {num} is {square}')\n",
        "  squared.append(square)"
      ],
      "metadata": {
        "colab": {
          "base_uri": "https://localhost:8080/"
        },
        "id": "EssSLRoLzxd0",
        "outputId": "fb611122-af15-40c5-f3b3-9bc177f6b3b0"
      },
      "execution_count": null,
      "outputs": [
        {
          "output_type": "stream",
          "name": "stdout",
          "text": [
            "Square of 2 is 4\n",
            "Square of 4 is 16\n",
            "Square of 7 is 49\n",
            "Square of 4 is 16\n",
            "Square of 9 is 81\n",
            "Square of 6 is 36\n",
            "Square of 17 is 289\n"
          ]
        }
      ]
    },
    {
      "cell_type": "code",
      "source": [
        "squared"
      ],
      "metadata": {
        "colab": {
          "base_uri": "https://localhost:8080/"
        },
        "id": "bmKvBh7l4idH",
        "outputId": "e9bdabf3-7273-42d1-e9c3-93753744d2cf"
      },
      "execution_count": null,
      "outputs": [
        {
          "output_type": "execute_result",
          "data": {
            "text/plain": [
              "[4, 16, 49, 16, 81, 36, 289]"
            ]
          },
          "metadata": {},
          "execution_count": 8
        }
      ]
    },
    {
      "cell_type": "code",
      "source": [
        "squared_dict = dict(zip(numbers,squared))\n",
        "squared_dict"
      ],
      "metadata": {
        "colab": {
          "base_uri": "https://localhost:8080/"
        },
        "id": "TXlec0b34liA",
        "outputId": "f707a700-33c1-4c0a-ef19-cef713826322"
      },
      "execution_count": null,
      "outputs": [
        {
          "output_type": "execute_result",
          "data": {
            "text/plain": [
              "{2: 4, 4: 16, 7: 49, 9: 81, 6: 36, 17: 289}"
            ]
          },
          "metadata": {},
          "execution_count": 9
        }
      ]
    },
    {
      "cell_type": "code",
      "source": [
        "list(range(1,13))"
      ],
      "metadata": {
        "colab": {
          "base_uri": "https://localhost:8080/"
        },
        "id": "lwHnPPki4xoI",
        "outputId": "7e9c6dd9-5c6d-4d53-89c1-5aa2f202e2d4"
      },
      "execution_count": null,
      "outputs": [
        {
          "output_type": "execute_result",
          "data": {
            "text/plain": [
              "[1, 2, 3, 4, 5, 6, 7, 8, 9, 10, 11, 12]"
            ]
          },
          "metadata": {},
          "execution_count": 13
        }
      ]
    },
    {
      "cell_type": "code",
      "source": [
        "for num in range(1,13) :\n",
        "  if num%2 == 0 :\n",
        "    print(num)"
      ],
      "metadata": {
        "colab": {
          "base_uri": "https://localhost:8080/"
        },
        "id": "WqohFU0X9E50",
        "outputId": "e7b2fa8f-19ae-4bfc-ad44-0859c11a0375"
      },
      "execution_count": null,
      "outputs": [
        {
          "output_type": "stream",
          "name": "stdout",
          "text": [
            "2\n",
            "4\n",
            "6\n",
            "8\n",
            "10\n",
            "12\n"
          ]
        }
      ]
    },
    {
      "cell_type": "code",
      "source": [
        "sentense = 'My name is shrinivas'\n",
        "# this iterat over each character\n",
        "for char in sentense :\n",
        "  print(char)"
      ],
      "metadata": {
        "colab": {
          "base_uri": "https://localhost:8080/"
        },
        "id": "RocHTXDu9ZNH",
        "outputId": "c7a55b32-0c05-447e-b2d2-9bad508ade02"
      },
      "execution_count": null,
      "outputs": [
        {
          "output_type": "stream",
          "name": "stdout",
          "text": [
            "M\n",
            "y\n",
            " \n",
            "n\n",
            "a\n",
            "m\n",
            "e\n",
            " \n",
            "i\n",
            "s\n",
            " \n",
            "s\n",
            "h\n",
            "r\n",
            "i\n",
            "n\n",
            "i\n",
            "v\n",
            "a\n",
            "s\n"
          ]
        }
      ]
    },
    {
      "cell_type": "code",
      "source": [
        "for word in sentense.split(' ') :\n",
        "  print(word)"
      ],
      "metadata": {
        "colab": {
          "base_uri": "https://localhost:8080/"
        },
        "id": "2cuuSHhz9jb6",
        "outputId": "ae5e991f-1ccf-49d2-a3d2-810fe55f586a"
      },
      "execution_count": null,
      "outputs": [
        {
          "output_type": "stream",
          "name": "stdout",
          "text": [
            "My\n",
            "name\n",
            "is\n",
            "shrinivas\n"
          ]
        }
      ]
    },
    {
      "cell_type": "code",
      "source": [
        "list(range(10,0,-1))"
      ],
      "metadata": {
        "colab": {
          "base_uri": "https://localhost:8080/"
        },
        "id": "pORGQehb93uB",
        "outputId": "abaf0827-567a-4faf-ac86-cdecc97abe5a"
      },
      "execution_count": null,
      "outputs": [
        {
          "output_type": "execute_result",
          "data": {
            "text/plain": [
              "[10, 9, 8, 7, 6, 5, 4, 3, 2, 1]"
            ]
          },
          "metadata": {},
          "execution_count": 18
        }
      ]
    },
    {
      "cell_type": "code",
      "source": [
        "list(range(0,12,3))"
      ],
      "metadata": {
        "colab": {
          "base_uri": "https://localhost:8080/"
        },
        "id": "EVp8aKSa_4Ax",
        "outputId": "8698d0eb-e0ec-455e-a8db-bc8b90ef7608"
      },
      "execution_count": null,
      "outputs": [
        {
          "output_type": "execute_result",
          "data": {
            "text/plain": [
              "[0, 3, 6, 9]"
            ]
          },
          "metadata": {},
          "execution_count": 20
        }
      ]
    },
    {
      "cell_type": "code",
      "source": [
        "for num in range(0,24,2) :\n",
        "  print(num**2)"
      ],
      "metadata": {
        "colab": {
          "base_uri": "https://localhost:8080/"
        },
        "id": "Q4FIgzmfApvm",
        "outputId": "daaede80-0a6d-49f4-a9ec-adc77e1ee193"
      },
      "execution_count": null,
      "outputs": [
        {
          "output_type": "stream",
          "name": "stdout",
          "text": [
            "0\n",
            "4\n",
            "16\n",
            "36\n",
            "64\n",
            "100\n",
            "144\n",
            "196\n",
            "256\n",
            "324\n",
            "400\n",
            "484\n"
          ]
        }
      ]
    },
    {
      "cell_type": "code",
      "source": [
        "sum = 0\n",
        "for num in range(0,10) :\n",
        "  sum = sum + num\n",
        "print(sum)"
      ],
      "metadata": {
        "colab": {
          "base_uri": "https://localhost:8080/"
        },
        "id": "BzvDVMDLBoEN",
        "outputId": "27ad74f7-2497-4dc5-d65e-125270c4a01d"
      },
      "execution_count": null,
      "outputs": [
        {
          "output_type": "stream",
          "name": "stdout",
          "text": [
            "45\n"
          ]
        }
      ]
    },
    {
      "cell_type": "code",
      "source": [
        "sentense"
      ],
      "metadata": {
        "colab": {
          "base_uri": "https://localhost:8080/",
          "height": 35
        },
        "id": "48HPVfobDEkE",
        "outputId": "812055c4-2fe0-4523-eb05-3644abb19f4a"
      },
      "execution_count": null,
      "outputs": [
        {
          "output_type": "execute_result",
          "data": {
            "text/plain": [
              "'My name is shrinivas'"
            ],
            "application/vnd.google.colaboratory.intrinsic+json": {
              "type": "string"
            }
          },
          "metadata": {},
          "execution_count": 25
        }
      ]
    },
    {
      "cell_type": "code",
      "source": [
        "for index,char in enumerate(sentense) :\n",
        "  print(f'{index} : {char}')"
      ],
      "metadata": {
        "colab": {
          "base_uri": "https://localhost:8080/"
        },
        "id": "K7ZH3lnWEL5h",
        "outputId": "4c95859e-a5b0-4462-b808-a5095e981029"
      },
      "execution_count": null,
      "outputs": [
        {
          "output_type": "stream",
          "name": "stdout",
          "text": [
            "0 : M\n",
            "1 : y\n",
            "2 :  \n",
            "3 : n\n",
            "4 : a\n",
            "5 : m\n",
            "6 : e\n",
            "7 :  \n",
            "8 : i\n",
            "9 : s\n",
            "10 :  \n",
            "11 : s\n",
            "12 : h\n",
            "13 : r\n",
            "14 : i\n",
            "15 : n\n",
            "16 : i\n",
            "17 : v\n",
            "18 : a\n",
            "19 : s\n"
          ]
        }
      ]
    },
    {
      "cell_type": "code",
      "source": [
        "for index,char in enumerate(sentense.split(' ')) :\n",
        "  print(f'{index} : {char}')"
      ],
      "metadata": {
        "colab": {
          "base_uri": "https://localhost:8080/"
        },
        "id": "-qM1udECEXiI",
        "outputId": "c8f172c9-08ff-4935-fb82-a61e0f5d20fa"
      },
      "execution_count": null,
      "outputs": [
        {
          "output_type": "stream",
          "name": "stdout",
          "text": [
            "0 : My\n",
            "1 : name\n",
            "2 : is\n",
            "3 : shrinivas\n"
          ]
        }
      ]
    },
    {
      "cell_type": "code",
      "source": [
        "for word in sentense.split(' ') :\n",
        "  if word not in ['shrinivas'] :\n",
        "    print(f'{word}')\n"
      ],
      "metadata": {
        "colab": {
          "base_uri": "https://localhost:8080/"
        },
        "id": "eIJjfbtjElyc",
        "outputId": "3b78b30d-6288-4a85-9754-d0716acb410e"
      },
      "execution_count": null,
      "outputs": [
        {
          "output_type": "stream",
          "name": "stdout",
          "text": [
            "My\n",
            "name\n",
            "is\n"
          ]
        }
      ]
    },
    {
      "cell_type": "code",
      "source": [
        "days = ('Monday', 'Tuesday', 'Wednesday', 'Thursday', 'Friday', 'Saturday', 'Sunday')\n",
        "for day in days :\n",
        "  print(f'{day}')"
      ],
      "metadata": {
        "colab": {
          "base_uri": "https://localhost:8080/"
        },
        "id": "q84NsyQoF5Kz",
        "outputId": "5a492d0b-ea51-4f85-93b4-239acb4f711f"
      },
      "execution_count": null,
      "outputs": [
        {
          "output_type": "stream",
          "name": "stdout",
          "text": [
            "Monday\n",
            "Tuesday\n",
            "Wednesday\n",
            "Thursday\n",
            "Friday\n",
            "Saturday\n",
            "Sunday\n"
          ]
        }
      ]
    },
    {
      "cell_type": "code",
      "source": [
        "country_city_list = [('India','Delhi'), ('USA', 'Silicon valley'), ('UK', 'London')]"
      ],
      "metadata": {
        "id": "t_yKb7T_GaNj"
      },
      "execution_count": null,
      "outputs": []
    },
    {
      "cell_type": "code",
      "source": [
        "#Tuple unpacking\n",
        "for country,city in country_city_list :\n",
        "  print(f'{country} : {city}')"
      ],
      "metadata": {
        "colab": {
          "base_uri": "https://localhost:8080/"
        },
        "id": "bOw5X7VSGqqc",
        "outputId": "8c030aaf-82e6-47e4-e0cb-b05eb4feb46a"
      },
      "execution_count": null,
      "outputs": [
        {
          "output_type": "stream",
          "name": "stdout",
          "text": [
            "India : Delhi\n",
            "USA : Silicon valley\n",
            "UK : London\n"
          ]
        }
      ]
    },
    {
      "cell_type": "code",
      "source": [
        "city_dict = dict(country_city_list)"
      ],
      "metadata": {
        "id": "frPH_y7oG1Lo"
      },
      "execution_count": null,
      "outputs": []
    },
    {
      "cell_type": "code",
      "source": [
        "city_dict"
      ],
      "metadata": {
        "colab": {
          "base_uri": "https://localhost:8080/"
        },
        "id": "160GvyEdHz2g",
        "outputId": "95e6c40d-b2e0-4a76-839d-22b0bedc30c8"
      },
      "execution_count": null,
      "outputs": [
        {
          "output_type": "execute_result",
          "data": {
            "text/plain": [
              "{'India': 'Delhi', 'USA': 'Silicon valley', 'UK': 'London'}"
            ]
          },
          "metadata": {},
          "execution_count": 36
        }
      ]
    },
    {
      "cell_type": "code",
      "source": [
        "# Iterate over dictionary\n",
        "for county,city in city_dict.items() :\n",
        "  print(f'{county} : {city}')"
      ],
      "metadata": {
        "colab": {
          "base_uri": "https://localhost:8080/"
        },
        "id": "GWclv99AH17D",
        "outputId": "fb907c79-23e6-4c2d-e68a-7d9bd780e904"
      },
      "execution_count": null,
      "outputs": [
        {
          "output_type": "stream",
          "name": "stdout",
          "text": [
            "India : Delhi\n",
            "USA : Silicon valley\n",
            "UK : London\n"
          ]
        }
      ]
    },
    {
      "cell_type": "markdown",
      "source": [
        "# While Loop"
      ],
      "metadata": {
        "id": "LUp24ePTIXN6"
      }
    },
    {
      "cell_type": "code",
      "source": [
        "x=0\n",
        "while x<5 :\n",
        "  print(x)\n",
        "  x = x+1\n",
        "else :\n",
        "  print('All done !!!!!!')\n"
      ],
      "metadata": {
        "colab": {
          "base_uri": "https://localhost:8080/"
        },
        "id": "j-snftFBICeg",
        "outputId": "a04b99bd-be96-4cc0-c631-071470a87ca6"
      },
      "execution_count": null,
      "outputs": [
        {
          "output_type": "stream",
          "name": "stdout",
          "text": [
            "0\n",
            "1\n",
            "2\n",
            "3\n",
            "4\n",
            "All done !!!!!!\n"
          ]
        }
      ]
    },
    {
      "cell_type": "code",
      "source": [
        "# break, continue, pass\n",
        "# break : \"breaks out of current closest enclosing loop\n",
        "# continue : goes to top of closest enclosing loop\n",
        "# pass :"
      ],
      "metadata": {
        "id": "Ps_JBeVzJSOP"
      },
      "execution_count": null,
      "outputs": []
    },
    {
      "cell_type": "code",
      "source": [
        "x = 0\n",
        "while x<10 :\n",
        "  if x==3 :\n",
        "    print('breaking the loop')\n",
        "    break\n",
        "  else :\n",
        "    print(x)\n",
        "    x = x +1\n",
        "    continue"
      ],
      "metadata": {
        "colab": {
          "base_uri": "https://localhost:8080/"
        },
        "id": "rpfdmu9VMGVL",
        "outputId": "0cbf08ce-8ceb-4890-b4ae-ab56690ae1cd"
      },
      "execution_count": null,
      "outputs": [
        {
          "output_type": "stream",
          "name": "stdout",
          "text": [
            "0\n",
            "1\n",
            "2\n",
            "breaking the loop\n"
          ]
        }
      ]
    },
    {
      "cell_type": "code",
      "source": [
        "l = []\n",
        "for i in l :\n",
        "  print(i)\n"
      ],
      "metadata": {
        "id": "H8kDQSG2Mc2D"
      },
      "execution_count": null,
      "outputs": []
    },
    {
      "cell_type": "code",
      "source": [
        "string ='My name is x'\n",
        "for i in string :\n",
        "  print(i,end=',')"
      ],
      "metadata": {
        "id": "ECwcHVI7OQ6t",
        "colab": {
          "base_uri": "https://localhost:8080/"
        },
        "outputId": "57e35561-cf00-42da-d56d-2106101b3916"
      },
      "execution_count": null,
      "outputs": [
        {
          "output_type": "stream",
          "name": "stdout",
          "text": [
            "M,y, ,n,a,m,e, ,i,s, ,x,"
          ]
        }
      ]
    },
    {
      "cell_type": "code",
      "source": [
        "a = [0,1,2,3]\n",
        "i = -2\n",
        "for i not in a :\n",
        "  print(i)\n",
        "  i+=1"
      ],
      "metadata": {
        "colab": {
          "base_uri": "https://localhost:8080/",
          "height": 106
        },
        "id": "eMJeHNYOzjIM",
        "outputId": "fe83e61f-b1d4-4ad3-9da7-d641be722e58"
      },
      "execution_count": null,
      "outputs": [
        {
          "output_type": "error",
          "ename": "SyntaxError",
          "evalue": "invalid syntax (<ipython-input-4-50b7ada04c0c>, line 3)",
          "traceback": [
            "\u001b[0;36m  File \u001b[0;32m\"<ipython-input-4-50b7ada04c0c>\"\u001b[0;36m, line \u001b[0;32m3\u001b[0m\n\u001b[0;31m    for i not in a :\u001b[0m\n\u001b[0m          ^\u001b[0m\n\u001b[0;31mSyntaxError\u001b[0m\u001b[0;31m:\u001b[0m invalid syntax\n"
          ]
        }
      ]
    },
    {
      "cell_type": "code",
      "source": [
        "for i in range(0) :\n",
        "  print(i)"
      ],
      "metadata": {
        "id": "fotVURDFz2Ug"
      },
      "execution_count": 2,
      "outputs": []
    },
    {
      "cell_type": "code",
      "source": [
        "x = ['ab', 'cd']\n",
        "for i in x :\n",
        "  x.append(i.upper())\n",
        "print(x)"
      ],
      "metadata": {
        "id": "qXtCGIoI0LxG",
        "colab": {
          "base_uri": "https://localhost:8080/",
          "height": 193
        },
        "outputId": "5f913c8e-274b-4c40-d9db-a4e6d9022fd5"
      },
      "execution_count": 1,
      "outputs": [
        {
          "output_type": "error",
          "ename": "KeyboardInterrupt",
          "evalue": "",
          "traceback": [
            "\u001b[0;31m---------------------------------------------------------------------------\u001b[0m",
            "\u001b[0;31mKeyboardInterrupt\u001b[0m                         Traceback (most recent call last)",
            "\u001b[0;32m<ipython-input-1-eaa38e65c7c7>\u001b[0m in \u001b[0;36m<cell line: 2>\u001b[0;34m()\u001b[0m\n\u001b[1;32m      1\u001b[0m \u001b[0mx\u001b[0m \u001b[0;34m=\u001b[0m \u001b[0;34m[\u001b[0m\u001b[0;34m'ab'\u001b[0m\u001b[0;34m,\u001b[0m \u001b[0;34m'cd'\u001b[0m\u001b[0;34m]\u001b[0m\u001b[0;34m\u001b[0m\u001b[0;34m\u001b[0m\u001b[0m\n\u001b[1;32m      2\u001b[0m \u001b[0;32mfor\u001b[0m \u001b[0mi\u001b[0m \u001b[0;32min\u001b[0m \u001b[0mx\u001b[0m \u001b[0;34m:\u001b[0m\u001b[0;34m\u001b[0m\u001b[0;34m\u001b[0m\u001b[0m\n\u001b[0;32m----> 3\u001b[0;31m   \u001b[0mx\u001b[0m\u001b[0;34m.\u001b[0m\u001b[0mappend\u001b[0m\u001b[0;34m(\u001b[0m\u001b[0mi\u001b[0m\u001b[0;34m.\u001b[0m\u001b[0mupper\u001b[0m\u001b[0;34m(\u001b[0m\u001b[0;34m)\u001b[0m\u001b[0;34m)\u001b[0m\u001b[0;34m\u001b[0m\u001b[0;34m\u001b[0m\u001b[0m\n\u001b[0m\u001b[1;32m      4\u001b[0m \u001b[0mprint\u001b[0m\u001b[0;34m(\u001b[0m\u001b[0mx\u001b[0m\u001b[0;34m)\u001b[0m\u001b[0;34m\u001b[0m\u001b[0;34m\u001b[0m\u001b[0m\n",
            "\u001b[0;31mKeyboardInterrupt\u001b[0m: "
          ]
        }
      ]
    },
    {
      "cell_type": "code",
      "source": [
        "a = int(input())\n",
        "b = int(input())\n",
        "c = int(input())\n",
        "\n",
        "print(f'The next date is[yyyy-mm-dd] {a}-{b}-{c}')"
      ],
      "metadata": {
        "id": "mjzLVZAz0iTi",
        "colab": {
          "base_uri": "https://localhost:8080/"
        },
        "outputId": "0f7120ab-8499-43c5-9fb7-a147daa663d9"
      },
      "execution_count": 3,
      "outputs": [
        {
          "output_type": "stream",
          "name": "stdout",
          "text": [
            "2024\n",
            "4\n",
            "17\n",
            "The next date is[yyyy-mm-dd] 2024-4-17\n"
          ]
        }
      ]
    },
    {
      "cell_type": "code",
      "source": [
        "# check triangle type\n",
        "a = int(input())\n",
        "b = int(input())\n",
        "c = int(input())\n",
        "\n",
        "if a==b==c  :\n",
        "  print('Equlateral triangle')\n",
        "elif a==b or b==c or a==c :\n",
        "  print('Isoscales Triangle')\n",
        "else :\n",
        "  print('Scalene Triangle')"
      ],
      "metadata": {
        "colab": {
          "base_uri": "https://localhost:8080/"
        },
        "id": "YjjgEcnd2pJg",
        "outputId": "fde3d87a-d005-472d-c8c9-e5c5fd516cd0"
      },
      "execution_count": 12,
      "outputs": [
        {
          "output_type": "stream",
          "name": "stdout",
          "text": [
            "1\n",
            "1\n",
            "2\n",
            "Isoscales Triangle\n"
          ]
        }
      ]
    },
    {
      "cell_type": "code",
      "source": [
        "# take a input from user and calculate the sum and avg\n",
        "l = []\n",
        "while True :\n",
        "  i = int(input())\n",
        "  if i==0 :\n",
        "    break\n",
        "  l.append(i)\n",
        "sum = sum(l)\n",
        "avg = sum/len(l)\n",
        "\n",
        "print(f'Sum = {sum} and Average = {avg}')\n"
      ],
      "metadata": {
        "colab": {
          "base_uri": "https://localhost:8080/"
        },
        "id": "gV10XYgo3Vum",
        "outputId": "3e4fa66b-5a68-4299-839e-906d3823b031"
      },
      "execution_count": 13,
      "outputs": [
        {
          "output_type": "stream",
          "name": "stdout",
          "text": [
            "2\n",
            "5\n",
            "7\n",
            "3\n",
            "9\n",
            "0\n",
            "Sum = 26 and Average = 5.2\n"
          ]
        }
      ]
    },
    {
      "cell_type": "code",
      "source": [],
      "metadata": {
        "id": "hio_uoCK5z6D"
      },
      "execution_count": null,
      "outputs": []
    }
  ]
}