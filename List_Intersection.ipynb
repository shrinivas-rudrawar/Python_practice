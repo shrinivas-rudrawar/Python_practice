{
  "nbformat": 4,
  "nbformat_minor": 0,
  "metadata": {
    "colab": {
      "provenance": [],
      "authorship_tag": "ABX9TyPjFE3Hq+QAiA2/WCjguE4I",
      "include_colab_link": true
    },
    "kernelspec": {
      "name": "python3",
      "display_name": "Python 3"
    },
    "language_info": {
      "name": "python"
    }
  },
  "cells": [
    {
      "cell_type": "markdown",
      "metadata": {
        "id": "view-in-github",
        "colab_type": "text"
      },
      "source": [
        "<a href=\"https://colab.research.google.com/github/shrinivas-rudrawar/Python_practice/blob/shrinivas/List_Intersection.ipynb\" target=\"_parent\"><img src=\"https://colab.research.google.com/assets/colab-badge.svg\" alt=\"Open In Colab\"/></a>"
      ]
    },
    {
      "cell_type": "code",
      "execution_count": 1,
      "metadata": {
        "id": "WIMFBwKaYKmY"
      },
      "outputs": [],
      "source": [
        "input = [[5,5,5,8,10],\n",
        "         [5,5,7,8],\n",
        "         [5,5,8,9,11]]"
      ]
    },
    {
      "cell_type": "code",
      "source": [
        "# output = [5,5,8]\n",
        "\n",
        "def get_intersection(lst) :\n",
        "  intersection = []\n",
        "  new_lst = lst[0]\n",
        "  for i in lst :\n",
        "    if len(new_lst) > len(i) :\n",
        "      new_lst = i\n",
        "  for i in new_lst :\n",
        "    count = 0\n",
        "    for j in lst :\n",
        "      if i in j :\n",
        "        count = count +1\n",
        "    if count == len(lst) :\n",
        "      intersection.append(i)\n",
        "  return intersection\n",
        "\n",
        "\n",
        "\n"
      ],
      "metadata": {
        "id": "ZEA71oJtYaHv"
      },
      "execution_count": 11,
      "outputs": []
    },
    {
      "cell_type": "code",
      "source": [
        "intersection = get_intersection(input)"
      ],
      "metadata": {
        "id": "wIlpiIH6lKgW"
      },
      "execution_count": 12,
      "outputs": []
    },
    {
      "cell_type": "code",
      "source": [
        "# calculate frequency of items in intersection\n",
        "def get_frequency(lst) :\n",
        "  frequency = {}\n",
        "  for i in lst :\n",
        "    frequency.update({i : intersection.count(i)})\n",
        "  return frequency"
      ],
      "metadata": {
        "id": "G9n3ifqcluZ-"
      },
      "execution_count": 14,
      "outputs": []
    },
    {
      "cell_type": "code",
      "source": [
        "new_dict = get_frequency(intersection)"
      ],
      "metadata": {
        "id": "fgWjNfPvsQj-"
      },
      "execution_count": 17,
      "outputs": []
    },
    {
      "cell_type": "code",
      "source": [
        "def create_list_from_map(any_dict) :\n",
        "  final_list = []\n",
        "  for key,value in any_dict.items() :\n",
        "    final_list = final_list + [key] * value\n",
        "  return final_list"
      ],
      "metadata": {
        "id": "-PtbkOfwtHvc"
      },
      "execution_count": 18,
      "outputs": []
    },
    {
      "cell_type": "code",
      "source": [
        "create_list_from_map(new_dict)"
      ],
      "metadata": {
        "colab": {
          "base_uri": "https://localhost:8080/"
        },
        "id": "H_OPp0KWw-n_",
        "outputId": "9fdea486-a05a-4a90-d2cb-f2bebf5ffe19"
      },
      "execution_count": 19,
      "outputs": [
        {
          "output_type": "execute_result",
          "data": {
            "text/plain": [
              "[5, 5, 8]"
            ]
          },
          "metadata": {},
          "execution_count": 19
        }
      ]
    },
    {
      "cell_type": "code",
      "source": [],
      "metadata": {
        "id": "P2xHlg2cxHWF"
      },
      "execution_count": null,
      "outputs": []
    }
  ]
}