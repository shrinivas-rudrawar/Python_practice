{
  "nbformat": 4,
  "nbformat_minor": 0,
  "metadata": {
    "colab": {
      "provenance": [],
      "authorship_tag": "ABX9TyOF5jFRrSNtm8NZvmXOTgbC",
      "include_colab_link": true
    },
    "kernelspec": {
      "name": "python3",
      "display_name": "Python 3"
    },
    "language_info": {
      "name": "python"
    }
  },
  "cells": [
    {
      "cell_type": "markdown",
      "metadata": {
        "id": "view-in-github",
        "colab_type": "text"
      },
      "source": [
        "<a href=\"https://colab.research.google.com/github/shrinivas-rudrawar/Python_practice/blob/shrinivas/D5M1_Statements%2C_Indentation_and_Conditional.ipynb\" target=\"_parent\"><img src=\"https://colab.research.google.com/assets/colab-badge.svg\" alt=\"Open In Colab\"/></a>"
      ]
    },
    {
      "cell_type": "code",
      "source": [
        "# Expressions need to be evaluated\n",
        "# Expression is a combination of values, variables, operators and call to functions"
      ],
      "metadata": {
        "id": "KaRgWcPo194S"
      },
      "execution_count": null,
      "outputs": []
    },
    {
      "cell_type": "code",
      "execution_count": null,
      "metadata": {
        "colab": {
          "base_uri": "https://localhost:8080/"
        },
        "id": "dlWuWsWV1oMn",
        "outputId": "80827d08-5577-4507-c47b-d0a6ea5533a3"
      },
      "outputs": [
        {
          "output_type": "stream",
          "name": "stdout",
          "text": [
            "2\n",
            "21\n"
          ]
        }
      ],
      "source": [
        "print(1+1)\n",
        "print(len('Hello team Almabetter'))"
      ]
    },
    {
      "cell_type": "code",
      "source": [
        "# import statement\n",
        "import pandas as pd"
      ],
      "metadata": {
        "id": "PtLrYnQP3I5e"
      },
      "execution_count": null,
      "outputs": []
    },
    {
      "cell_type": "code",
      "source": [
        "# statement do not return the value, They are simply executed\n",
        "y = 3.14"
      ],
      "metadata": {
        "id": "bOuPdP3H4Iq3"
      },
      "execution_count": null,
      "outputs": []
    },
    {
      "cell_type": "markdown",
      "source": [
        "Multi Line statements"
      ],
      "metadata": {
        "id": "QMjaQaua5ylg"
      }
    },
    {
      "cell_type": "code",
      "source": [
        "a = (2 + 3 + 4 +\n",
        "     5 + 6 +\n",
        "     10)"
      ],
      "metadata": {
        "id": "_pOduAe04dYd"
      },
      "execution_count": null,
      "outputs": []
    },
    {
      "cell_type": "code",
      "source": [
        "a = 2 + 9 +"
      ],
      "metadata": {
        "colab": {
          "base_uri": "https://localhost:8080/",
          "height": 106
        },
        "id": "LAXY0mXR6DvW",
        "outputId": "ee4ccb38-db17-432e-f3c2-136cdcd22836"
      },
      "execution_count": null,
      "outputs": [
        {
          "output_type": "error",
          "ename": "SyntaxError",
          "evalue": "invalid syntax (<ipython-input-5-bd791e2a30c3>, line 1)",
          "traceback": [
            "\u001b[0;36m  File \u001b[0;32m\"<ipython-input-5-bd791e2a30c3>\"\u001b[0;36m, line \u001b[0;32m1\u001b[0m\n\u001b[0;31m    a = 2 + 9 +\u001b[0m\n\u001b[0m               ^\u001b[0m\n\u001b[0;31mSyntaxError\u001b[0m\u001b[0;31m:\u001b[0m invalid syntax\n"
          ]
        }
      ]
    },
    {
      "cell_type": "code",
      "source": [
        "a = (2 + 3 + 4 + \\\n",
        "     5 + 6 + \\\n",
        "     10)\n",
        "print(a)"
      ],
      "metadata": {
        "colab": {
          "base_uri": "https://localhost:8080/"
        },
        "id": "UOgYLU-E6UoP",
        "outputId": "9ffc76e0-5ddf-4eeb-bc05-7705ef760f28"
      },
      "execution_count": null,
      "outputs": [
        {
          "output_type": "stream",
          "name": "stdout",
          "text": [
            "30\n"
          ]
        }
      ]
    },
    {
      "cell_type": "code",
      "source": [
        "type(a)"
      ],
      "metadata": {
        "colab": {
          "base_uri": "https://localhost:8080/"
        },
        "id": "dTFTmKgW7yuU",
        "outputId": "16bd07ce-fd62-473d-9638-7d5dcdd2e32e"
      },
      "execution_count": null,
      "outputs": [
        {
          "output_type": "execute_result",
          "data": {
            "text/plain": [
              "int"
            ]
          },
          "metadata": {},
          "execution_count": 7
        }
      ]
    },
    {
      "cell_type": "code",
      "source": [
        "# we can also put multiple statements in single line\n",
        "a = 1; b= 2; c = 3;"
      ],
      "metadata": {
        "id": "co1Dh-_H7_kO"
      },
      "execution_count": null,
      "outputs": []
    },
    {
      "cell_type": "code",
      "source": [
        "a,b,c = (2,3,5), [7,8,9], {'a', 'b'};"
      ],
      "metadata": {
        "id": "OIE-1d6Y8h9P"
      },
      "execution_count": null,
      "outputs": []
    },
    {
      "cell_type": "code",
      "source": [
        "a"
      ],
      "metadata": {
        "colab": {
          "base_uri": "https://localhost:8080/"
        },
        "id": "XeqEWAcr8msX",
        "outputId": "ea91e201-c49d-4b7c-a6fe-5570d1168c3f"
      },
      "execution_count": null,
      "outputs": [
        {
          "output_type": "execute_result",
          "data": {
            "text/plain": [
              "(2, 3, 5)"
            ]
          },
          "metadata": {},
          "execution_count": 14
        }
      ]
    },
    {
      "cell_type": "code",
      "source": [
        "b"
      ],
      "metadata": {
        "colab": {
          "base_uri": "https://localhost:8080/"
        },
        "id": "4o0V9T8Y8n8m",
        "outputId": "9b0c9828-2d66-4523-c38e-31a6ce08831f"
      },
      "execution_count": null,
      "outputs": [
        {
          "output_type": "execute_result",
          "data": {
            "text/plain": [
              "[7, 8, 9]"
            ]
          },
          "metadata": {},
          "execution_count": 15
        }
      ]
    },
    {
      "cell_type": "code",
      "source": [
        "c"
      ],
      "metadata": {
        "colab": {
          "base_uri": "https://localhost:8080/"
        },
        "id": "P17RHJm68orK",
        "outputId": "497ae126-0fb6-4789-c66c-0eb00cadf61c"
      },
      "execution_count": null,
      "outputs": [
        {
          "output_type": "execute_result",
          "data": {
            "text/plain": [
              "{'a', 'b'}"
            ]
          },
          "metadata": {},
          "execution_count": 16
        }
      ]
    },
    {
      "cell_type": "markdown",
      "source": [
        "Python Comments"
      ],
      "metadata": {
        "id": "Iw_OSRgw9Qgx"
      }
    },
    {
      "cell_type": "code",
      "source": [
        "# comments are starts from the #\n",
        "# also we can comment code using '''"
      ],
      "metadata": {
        "id": "uLQm7LuM8pZy"
      },
      "execution_count": null,
      "outputs": []
    },
    {
      "cell_type": "code",
      "source": [
        "'''Hey\n",
        "  I am  Almabetter'''\n",
        "a = 3"
      ],
      "metadata": {
        "id": "9WRyP0iH9bS4"
      },
      "execution_count": null,
      "outputs": []
    },
    {
      "cell_type": "markdown",
      "source": [
        "Indentation in Python"
      ],
      "metadata": {
        "id": "t4c75bKP_uGh"
      }
    },
    {
      "cell_type": "code",
      "source": [
        "a = 2\n",
        "b = 3\n",
        "if a>b :\n",
        "  print( 'a > b')"
      ],
      "metadata": {
        "id": "g2c9qadq9huu"
      },
      "execution_count": null,
      "outputs": []
    },
    {
      "cell_type": "code",
      "source": [
        "# Conditional statements\n",
        "# if, elif, else\n",
        "# if case1 :\n",
        "# elif case2 :\n",
        "# else"
      ],
      "metadata": {
        "id": "7kRwpmNgAylk"
      },
      "execution_count": null,
      "outputs": []
    },
    {
      "cell_type": "code",
      "source": [
        "x = 20\n",
        "\n",
        "if x==20 :\n",
        "  print('x is greater than 10')\n",
        "  print(f'x is {x}')"
      ],
      "metadata": {
        "colab": {
          "base_uri": "https://localhost:8080/"
        },
        "id": "kJKELqD1CaHI",
        "outputId": "b6dc889b-228f-49d4-ad34-36255a719d73"
      },
      "execution_count": null,
      "outputs": [
        {
          "output_type": "stream",
          "name": "stdout",
          "text": [
            "x is greater than 10\n",
            "x is 20\n"
          ]
        }
      ]
    },
    {
      "cell_type": "code",
      "source": [
        "if True :\n",
        "  print(' This is always true')"
      ],
      "metadata": {
        "colab": {
          "base_uri": "https://localhost:8080/"
        },
        "id": "7F4Ty9ubCph8",
        "outputId": "3b7c3534-88bb-4a15-a880-7f364cc2baa4"
      },
      "execution_count": null,
      "outputs": [
        {
          "output_type": "stream",
          "name": "stdout",
          "text": [
            " This is always true\n"
          ]
        }
      ]
    },
    {
      "cell_type": "code",
      "source": [
        "x = False\n",
        "y = True\n",
        "\n",
        "if x :\n",
        "  print('x is true')\n",
        "else :\n",
        "  print('y is true')"
      ],
      "metadata": {
        "colab": {
          "base_uri": "https://localhost:8080/"
        },
        "id": "cGYnJnjbDH4_",
        "outputId": "a784836e-b036-4016-b6cd-663bfea5e3d0"
      },
      "execution_count": null,
      "outputs": [
        {
          "output_type": "stream",
          "name": "stdout",
          "text": [
            "y is true\n"
          ]
        }
      ]
    },
    {
      "cell_type": "code",
      "source": [
        "a = 10\n",
        "b = 20\n",
        "c = 30\n",
        "\n",
        "if a > c :\n",
        "  print('a is greater than c')\n",
        "elif a > b :\n",
        "  print('a is greater than b')\n",
        "else :\n",
        "  print('a is less than b & c')\n"
      ],
      "metadata": {
        "colab": {
          "base_uri": "https://localhost:8080/"
        },
        "id": "q-N7bofmDhYI",
        "outputId": "6435b388-cb8b-4b46-c783-025f78abb65a"
      },
      "execution_count": null,
      "outputs": [
        {
          "output_type": "stream",
          "name": "stdout",
          "text": [
            "a is less than b & c\n"
          ]
        }
      ]
    },
    {
      "cell_type": "code",
      "source": [
        "# 0,0.0, None, [],{},() treat as False\n",
        "if None :\n",
        "  print('In the if statement')\n",
        "else :\n",
        "  print('In the else part')"
      ],
      "metadata": {
        "id": "fRYvjMPCEhFi",
        "colab": {
          "base_uri": "https://localhost:8080/"
        },
        "outputId": "eb99e982-8ac2-4a4d-b4a0-40ac6662f8c7"
      },
      "execution_count": 1,
      "outputs": [
        {
          "output_type": "stream",
          "name": "stdout",
          "text": [
            "In the else part\n"
          ]
        }
      ]
    },
    {
      "cell_type": "code",
      "source": [
        "if [1,2] :\n",
        "  print('In the if statement')\n",
        "else :\n",
        "  print('In the else part')"
      ],
      "metadata": {
        "colab": {
          "base_uri": "https://localhost:8080/"
        },
        "id": "_2og7X5k4J1q",
        "outputId": "755c9a91-8182-428d-c671-57bfb31cb194"
      },
      "execution_count": 2,
      "outputs": [
        {
          "output_type": "stream",
          "name": "stdout",
          "text": [
            "In the if statement\n"
          ]
        }
      ]
    },
    {
      "cell_type": "code",
      "source": [
        "\n"
      ],
      "metadata": {
        "id": "Bkd5-39o4T_P"
      },
      "execution_count": 4,
      "outputs": []
    },
    {
      "cell_type": "code",
      "source": [
        "str1 ='learn Python'\n",
        "str2=''\n",
        "str3=''\n",
        "for x in str1 :\n",
        "  if(x=='r' or x=='n' or x=='p') :\n",
        "    str2+=x\n",
        "    pass\n",
        "  if (x=='r' or x=='e' or x=='a') :\n",
        "    str3+=x\n",
        "    pass\n",
        "print(str2,end=\" \")\n",
        "print(str3)"
      ],
      "metadata": {
        "colab": {
          "base_uri": "https://localhost:8080/"
        },
        "id": "XSADdnMz6Z_r",
        "outputId": "a2936c7d-7b1f-42f0-89f0-4f9ebd2c1c74"
      },
      "execution_count": 5,
      "outputs": [
        {
          "output_type": "stream",
          "name": "stdout",
          "text": [
            "rnn ear\n"
          ]
        }
      ]
    },
    {
      "cell_type": "code",
      "source": [
        "w = 0.5\n",
        "n=5\n",
        "if w<1 :\n",
        "  price =1.45\n",
        "if w>=1 :\n",
        "  price= 1.15\n",
        "total = w * price\n",
        "if n>=10:\n",
        "  total = total * 0.9\n",
        "print(total)"
      ],
      "metadata": {
        "colab": {
          "base_uri": "https://localhost:8080/"
        },
        "id": "GVVx-0-H9WAZ",
        "outputId": "905259b4-38e4-471c-8091-2e81d7156313"
      },
      "execution_count": 7,
      "outputs": [
        {
          "output_type": "stream",
          "name": "stdout",
          "text": [
            "0.725\n"
          ]
        }
      ]
    },
    {
      "cell_type": "code",
      "source": [],
      "metadata": {
        "id": "7-tD5x-F-bAO"
      },
      "execution_count": null,
      "outputs": []
    }
  ]
}