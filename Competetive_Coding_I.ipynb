{
  "nbformat": 4,
  "nbformat_minor": 0,
  "metadata": {
    "colab": {
      "name": "Competetive Coding I.ipynb",
      "provenance": [],
      "include_colab_link": true
    },
    "kernelspec": {
      "name": "python3",
      "display_name": "Python 3"
    }
  },
  "cells": [
    {
      "cell_type": "markdown",
      "metadata": {
        "id": "view-in-github",
        "colab_type": "text"
      },
      "source": [
        "<a href=\"https://colab.research.google.com/github/shrinivas-rudrawar/Python_practice/blob/shrinivas/Competetive_Coding_I.ipynb\" target=\"_parent\"><img src=\"https://colab.research.google.com/assets/colab-badge.svg\" alt=\"Open In Colab\"/></a>"
      ]
    },
    {
      "cell_type": "markdown",
      "metadata": {
        "id": "XA-b8BLzYrbe"
      },
      "source": [
        "\n",
        "# Time : 1 hour\n",
        "\n",
        "# Problem Statement"
      ]
    },
    {
      "cell_type": "markdown",
      "metadata": {
        "id": "soIV-F7Wcbp3"
      },
      "source": [
        "### A student is taking a cryptography class and has found anagrams to be very useful. Two strings are anagrams of each other if the first string's letters can be rearranged to form the second string. In other words, both strings must contain the same exact letters in the same exact frequency. For example, bacdc and dcbac are anagrams, but bacdc and dcbad are not.\n",
        "\n",
        "### The student decides on an encryption scheme that involves two large strings. The encryption is dependent on the minimum number of character deletions required to make the two strings anagrams. You need to determine this number.\n",
        "\n",
        "### Given two strings, $a$ and $b$, that may or may not be of the same length, determine the minimum number of character deletions required to make $a$ and $b$ anagrams. Any characters can be deleted from either of the strings. The strings $a$ and $b$ consist of lowercase English alphabets."
      ]
    },
    {
      "cell_type": "markdown",
      "metadata": {
        "id": "TS0zgz0PcfYz"
      },
      "source": [
        "**Example**\n",
        "\n",
        "<code>a = 'cde'</code>\n",
        "\n",
        "<code>b = 'dcf' </code>"
      ]
    },
    {
      "cell_type": "markdown",
      "metadata": {
        "id": "kxZ3mdXsckZm"
      },
      "source": [
        "### Delete $e$ from $a$ and $f$ from $b$ so that the remaining strings are $cd$ and $dc$ which are anagrams. This takes 2 character deletions."
      ]
    },
    {
      "cell_type": "markdown",
      "metadata": {
        "id": "1QlkSP3KcozS"
      },
      "source": [
        "## **Function Description**\n",
        "\n",
        "### Create a <code>makeAnagram</code> function below.\n",
        "\n",
        "### **Inputs:**\n",
        "\n",
        "### string a: a string\n",
        "\n",
        "### string b: another string\n",
        "\n",
        "### **Output:**\n",
        "\n",
        "### int: the minimum total characters that must be deleted"
      ]
    },
    {
      "cell_type": "markdown",
      "metadata": {
        "id": "-woYEa44Z-Cf"
      },
      "source": [
        "# Solution"
      ]
    },
    {
      "cell_type": "code",
      "metadata": {
        "id": "sJ6O2MtIZ9dP"
      },
      "source": [
        "class Anagram :\n",
        "  def __init__(self) :\n",
        "    pass\n",
        "\n",
        "  # a = abc\n",
        "  # b = bcd\n",
        "  def createAnagram(sel,str1, str2) :\n",
        "    lst1 = [i for i in str1]\n",
        "    lst2 = [i for i in str2]\n",
        "    string = ''\n",
        "    dict1 = {}\n",
        "    dict2 = {}\n",
        "    for n in lst1 :\n",
        "      dict1.update({n : lst1.count(n)})\n",
        "    for n in lst2 :\n",
        "      dict2.update({n : lst2.count(n)})\n",
        "    anagram = {}\n",
        "    for key,value in dict1.items() :\n",
        "      delete_char = dict2.get(key, 0)\n",
        "      if delete_char > 0 :\n",
        "        if delete_char == value :\n",
        "          anagram.update({key : value})\n",
        "        elif delete_char > value :\n",
        "          anagram.update({key : value})\n",
        "        elif delete_char < value :\n",
        "          anagram.update({key : delete_char})\n",
        "    print(anagram)\n",
        "    for key,value in anagram.items() :\n",
        "      char = anagram.get(key)\n",
        "      string = string + key * value\n",
        "    print(string)\n",
        "    total_char_delete = 0\n",
        "    len1 = len(lst1)\n",
        "    len2 = len(lst2)\n",
        "    total_char_delete =(len1 + len2) - 2 * len(string)\n",
        "    print(f'Total char deleted {total_char_delete}')"
      ],
      "execution_count": 1,
      "outputs": []
    },
    {
      "cell_type": "code",
      "metadata": {
        "id": "COgSp7CXYczM"
      },
      "source": [],
      "execution_count": null,
      "outputs": []
    }
  ]
}